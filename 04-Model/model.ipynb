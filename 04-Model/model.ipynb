{
  "cells": [
    {
      "cell_type": "markdown",
      "metadata": {
        "id": "vfpBOYc4oKaf"
      },
      "source": [
        "# ChatOpenAI Model\n",
        "\n",
        "OpenAI 사의 채팅 전용 LLM\n",
        "객체를 생성할 때 다음의 옵션 사용 가능.\n",
        "\n",
        "\n",
        "*   temperature: 사용할 샘플링 온도로 0과 2 사이에서 선택 가능. 값이 높아질 수록 출력을 더 무작위하게 만들며 값이 낮아질 수록 출력을 더 집중되고 결정론적으로 만듬.\n",
        "*   max_tokens: 채팅 완성에서 생성할 토큰의 최대 개수.\n",
        "*   model_name: 사용할 모델 이름.\n",
        "\n"
      ]
    },
    {
      "cell_type": "code",
      "execution_count": 5,
      "metadata": {
        "colab": {
          "base_uri": "https://localhost:8080/"
        },
        "id": "hZ3c9xJgosXd",
        "outputId": "9989dc74-133d-4c0b-a19e-bc5efc35e142"
      },
      "outputs": [
        {
          "name": "stdout",
          "output_type": "stream",
          "text": [
            "답변: 3000년에 지구가 하나의 나라로 통합된다면, 수도는 여러 요소를 고려하여 결정될 것입니다. 경제적, 정치적, 문화적 중심지로서의 역할을 할 수 있는 도시가 유력한 후보가 될 것입니다. \n",
            "\n",
            "그렇다면, 저는 뉴욕을 선택하겠습니다. 뉴욕은 이미 세계 금융의 중심지 중 하나로 자리잡고 있으며, 다양한 문화와 인종이 공존하는 다문화 도시입니다. 또한, 유엔 본부가 위치해 있어 국제적인 정치 활동의 중심지로도 역할을 하고 있습니다. 이러한 요소들은 뉴욕이 지구의 수도로 적합한 후보가 되는 이유가 될 수 있습니다.\n"
          ]
        }
      ],
      "source": [
        "from langchain.chat_models import ChatOpenAI\n",
        "\n",
        "llm = ChatOpenAI(\n",
        "    temperature=0.5,\n",
        "    max_tokens=2048,\n",
        "    model_name=\"gpt-4o\"\n",
        ")\n",
        "\n",
        "question = \"만약 3000년이 되어 지구의 나라가 하나가 된다면 어느 나라에 수도가 생길 것 같아? 자유롭게 생각하고 하나만 선택해줘.\"\n",
        "answer = llm.predict(question)\n",
        "\n",
        "print(f\"답변: {answer}\")"
      ]
    },
    {
      "cell_type": "markdown",
      "metadata": {
        "id": "PxdK0YcmpvX5"
      },
      "source": [
        "# Prompt\n",
        "\n",
        "## PromptTemplate\n",
        "\n",
        "사용자의 입력 변수를 사용하여 완전한 프롬프트 문자열을 만들 수 있음."
      ]
    },
    {
      "cell_type": "code",
      "execution_count": 6,
      "metadata": {
        "colab": {
          "base_uri": "https://localhost:8080/"
        },
        "id": "aCqQx9_lp-uL",
        "outputId": "d4876502-289c-4242-81b8-4cf8b6d95063"
      },
      "outputs": [
        {
          "name": "stdout",
          "output_type": "stream",
          "text": [
            "프롬프트1: input_variables=['country'] template='{country}의 수도는 어디입니까?'\n",
            "프롬프트2: input_variables=['country'] template='{country}의 수도는 어디입니까?'\n"
          ]
        }
      ],
      "source": [
        "from langchain.prompts import PromptTemplate\n",
        "\n",
        "template = \"{country}의 수도는 어디입니까?\"\n",
        "\n",
        "prompt = PromptTemplate(template=template, input_variables=[\"country\"])\n",
        "print(f\"프롬프트1: {prompt}\")\n",
        "\n",
        "prompt2 = PromptTemplate.from_template(template)\n",
        "print(f\"프롬프트2: {prompt2}\")"
      ]
    },
    {
      "cell_type": "markdown",
      "metadata": {
        "id": "GQRZ5QXXqnQ6"
      },
      "source": [
        "# LLMChain\n",
        "\n",
        "LLMChain은 PromptTemplate와 연결된 체인 객체를 생성"
      ]
    },
    {
      "cell_type": "code",
      "execution_count": null,
      "metadata": {
        "colab": {
          "base_uri": "https://localhost:8080/"
        },
        "id": "r7bKPDVUq5kq",
        "outputId": "5e569ae2-b611-4485-9455-948ce77aec4b"
      },
      "outputs": [],
      "source": [
        "from langchain.chat_models import ChatOpenAI\n",
        "from langchain.prompts import PromptTemplate\n",
        "from langchain.chains import LLMChain\n",
        "\n",
        "prompt = PromptTemplate.from_template(\"{country}의 수도는 어디입니까?\")\n",
        "\n",
        "llm = ChatOpenAI(model=\"gpt-4o\")\n",
        "\n",
        "chain = LLMChain(prompt=prompt, llm=llm)"
      ]
    },
    {
      "cell_type": "markdown",
      "metadata": {
        "id": "gnaAPs9qrpKQ"
      },
      "source": [
        "## run()\n",
        "\n",
        "run() 메서드로 템플릿 프롬프트를 실행 가능."
      ]
    },
    {
      "cell_type": "code",
      "execution_count": 8,
      "metadata": {
        "colab": {
          "base_uri": "https://localhost:8080/",
          "height": 35
        },
        "id": "00YYe82PrxD0",
        "outputId": "83573189-7bbc-4a99-a22e-6493b14dcb4c"
      },
      "outputs": [
        {
          "data": {
            "application/vnd.google.colaboratory.intrinsic+json": {
              "type": "string"
            },
            "text/plain": [
              "'대만의 수도는 타이베이(Taipei)입니다. 타이베이는 대만의 정치, 경제, 문화 중심지로서 중요한 역할을 하고 있습니다.'"
            ]
          },
          "execution_count": 8,
          "metadata": {},
          "output_type": "execute_result"
        }
      ],
      "source": [
        "chain.run(country=\"대만\")"
      ]
    },
    {
      "cell_type": "markdown",
      "metadata": {
        "id": "3-vOSh82r9_h"
      },
      "source": [
        "## Predict\n",
        "\n",
        "predict() 메서드로 템플릿 프롬프트를 실행 가능."
      ]
    },
    {
      "cell_type": "code",
      "execution_count": 10,
      "metadata": {
        "colab": {
          "base_uri": "https://localhost:8080/",
          "height": 35
        },
        "id": "bkRm9i-Ur8FK",
        "outputId": "dd1b49b5-bb98-44e6-ec8b-999a3437afd3"
      },
      "outputs": [
        {
          "data": {
            "application/vnd.google.colaboratory.intrinsic+json": {
              "type": "string"
            },
            "text/plain": [
              "'대한민국의 수도는 서울특별시입니다. 서울은 대한민국의 정치, 경제, 문화, 교육의 중심지로서 중요한 역할을 하고 있습니다.'"
            ]
          },
          "execution_count": 10,
          "metadata": {},
          "output_type": "execute_result"
        }
      ],
      "source": [
        "chain.predict(country=\"대한민국\")"
      ]
    },
    {
      "cell_type": "markdown",
      "metadata": {
        "id": "QgY2E9D8sajO"
      },
      "source": [
        "## apply()를 사용하여 여러 입력을 한번에 처리."
      ]
    },
    {
      "cell_type": "code",
      "execution_count": 12,
      "metadata": {
        "colab": {
          "base_uri": "https://localhost:8080/"
        },
        "id": "SEoD6MvFsfmp",
        "outputId": "21f82df4-2cfc-406b-9647-d6d74b71c3e2"
      },
      "outputs": [
        {
          "name": "stdout",
          "output_type": "stream",
          "text": [
            "답변: 대만의 수도는 타이베이(Taipei)입니다. 타이베이는 대만의 정치, 경제, 문화 중심지로서 많은 관광 명소와 역사적인 장소들이 있습니다.\n",
            "답변: 일본의 수도는 도쿄입니다. 도쿄는 일본의 정치, 경제, 문화의 중심지로, 다양한 관광 명소와 현대적인 도시 풍경을 자랑합니다.\n",
            "답변: 미국의 수도는 워싱턴 D.C.입니다. 워싱턴 D.C.는 미국의 정치 중심지로, 백악관, 국회의사당, 대법원 등 주요 정부 기관이 위치해 있습니다.\n",
            "답변: 러시아의 수도는 모스크바입니다. 모스크바는 러시아의 정치, 경제, 문화의 중심지로, 많은 역사적 건축물과 중요한 기관들이 위치해 있습니다.\n"
          ]
        }
      ],
      "source": [
        "inputs = [{\"country\": \"대만\"}, {\"country\": \"일본\"}, {\"country\": \"미국\"}, {\"country\": \"러시아\"}]\n",
        "\n",
        "outputs = chain.apply(inputs)\n",
        "\n",
        "for output in outputs:\n",
        "  print(f\"답변: {output['text'].strip()}\")\n"
      ]
    },
    {
      "cell_type": "markdown",
      "metadata": {
        "id": "GYpTzarltLvS"
      },
      "source": [
        "## generate()\n",
        "\n",
        "문자열 대신 LLMResult 객체를 반환하는 점을 제외하면 apply()와 동일함.\n",
        "LLMResult는 다음과 같은 항목들을 포함\n",
        "\n",
        "\n",
        "\n",
        "*   generations: 답변\n",
        "*   llm_output: 토큰 사용량\n",
        "*   run: Run ID\n",
        "\n"
      ]
    },
    {
      "cell_type": "code",
      "execution_count": 14,
      "metadata": {
        "colab": {
          "base_uri": "https://localhost:8080/"
        },
        "id": "ss4uwAcEthb9",
        "outputId": "d34c45e8-1d36-4494-dce9-13636e87759e"
      },
      "outputs": [
        {
          "name": "stdout",
          "output_type": "stream",
          "text": [
            "토큰 사용량: {'token_usage': {'completion_tokens': 150, 'prompt_tokens': 48, 'total_tokens': 198}, 'model_name': 'gpt-4o', 'system_fingerprint': 'fp_729ea513f7'}\n",
            "답변: 대만의 수도는 타이베이(Taipei)입니다. 타이베이는 대만의 정치, 경제, 문화 중심지로서 많은 주요 정부 기관과 기업이 위치해 있습니다.\n",
            "답변: 일본의 수도는 도쿄입니다. 도쿄는 일본의 정치, 경제, 문화 중심지로서 많은 인구와 다양한 명소를 자랑합니다.\n",
            "답변: 미국의 수도는 워싱턴 D.C.(Washington, D.C.)입니다. D.C.는 \"District of Columbia\"의 약자입니다. 워싱턴 D.C.는 미국의 정치, 역사, 문화 중심지로서 백악관, 국회의사당, 대법원 등 중요한 정부 기관들이 위치해 있습니다.\n"
          ]
        }
      ],
      "source": [
        "inputs = [{\"country\": \"대만\"}, {\"country\": \"일본\"}, {\"country\": \"미국\"}]\n",
        "\n",
        "results = chain.generate(inputs)\n",
        "\n",
        "print(f\"토큰 사용량: {results.llm_output}\")\n",
        "\n",
        "for generation in results.generations:\n",
        "  print(f\"답변: {generation[0].text.strip()}\")\n"
      ]
    },
    {
      "cell_type": "markdown",
      "metadata": {
        "id": "ak7xck9DuXkj"
      },
      "source": [
        "## 2개 이상의 변수를 템플릿 안에 정의"
      ]
    },
    {
      "cell_type": "code",
      "execution_count": 19,
      "metadata": {
        "id": "KDNQKEfqujqr"
      },
      "outputs": [],
      "source": [
        "from langchain.prompts import PromptTemplate\n",
        "\n",
        "template = \"{country1}과 {country2}는 전쟁을 한 적이 있니?\"\n",
        "prompt = PromptTemplate.from_template(template)\n",
        "\n",
        "chain = LLMChain(prompt=prompt, llm=llm)"
      ]
    },
    {
      "cell_type": "code",
      "execution_count": 22,
      "metadata": {
        "colab": {
          "base_uri": "https://localhost:8080/"
        },
        "id": "cUfCAsLXvBGe",
        "outputId": "f52a333d-6c98-4e03-f233-b23536149c03"
      },
      "outputs": [
        {
          "name": "stdout",
          "output_type": "stream",
          "text": [
            "답변: 네, 한국과 일본 간에는 역사적으로 전쟁과 갈등이 있었습니다. 가장 유명한 예로는 임진왜란(1592-1598)이 있습니다. 임진왜란은 일본의 도요토미 히데요시가 조선을 침략한 전쟁으로, 조선과 명나라 연합군이 일본군과 싸워 결국 일본군을 물리쳤습니다.\n",
            "\n",
            "또한, 20세기 초에는 일본이 한국을 식민지로 만들면서 많은 갈등과 저항이 있었습니다. 1910년부터 1945년까지 일본은 한국을 식민지로 통치했으며, 이 기간 동안 많은 한국인들이 독립운동을 벌였습니다. 1945년 제2차 세계대전이 끝나면서 일본은 패전국이 되어 한국에서 철수하게 되었습니다. \n",
            "\n",
            "이 외에도 역사적으로 여러 차례 작은 갈등과 충돌이 있었지만, 큰 전쟁으로 기록된 것은 임진왜란과 일제강점기입니다.\n"
          ]
        }
      ],
      "source": [
        "answer = chain.run(country1=\"한국\", country2=\"일본\")\n",
        "print(f\"답변: {answer}\")"
      ]
    },
    {
      "cell_type": "code",
      "execution_count": 24,
      "metadata": {
        "colab": {
          "base_uri": "https://localhost:8080/"
        },
        "id": "ngZukYCGvx2X",
        "outputId": "fd26e4d8-59b7-4b7e-84bc-8762261e1906"
      },
      "outputs": [
        {
          "name": "stdout",
          "output_type": "stream",
          "text": [
            "답변: 미국과 중국은 직접적인 전면전을 한 적은 없지만, 양국은 역사적으로 몇 차례 간접적으로 충돌한 적이 있습니다. 가장 주요한 사례는 한국 전쟁 (1950-1953)입니다. 이 전쟁에서 미국은 남한을 지원했고, 중국은 북한을 지원하며 직접적인 군사 충돌이 발생했습니다.\n",
            "\n",
            "그 외에도 냉전 기간 동안 미국과 중국은 여러 차례 간접적인 갈등을 겪었으며, 특히 타이완 문제와 남중국해 문제 등 여러 국제적 이슈에서도 갈등이 있었습니다. 그러나 이 모든 갈등에도 불구하고, 양국은 현재까지 공식적인 전면전을 치른 적은 없습니다.\n",
            "답변: 네, 프랑스와 러시아는 역사적으로 몇 차례 전쟁을 벌인 적이 있습니다. 가장 유명한 예는 나폴레옹 전쟁 시기의 1812년 러시아 원정입니다. 나폴레옹 보나파르트가 이끄는 프랑스 군대는 러시아를 침공했으나, 결국 패배하고 퇴각해야 했습니다. 이 전쟁은 나폴레옹의 몰락의 시작을 알리는 중요한 사건이었습니다.\n",
            "\n",
            "또 다른 예로는 제1차 세계대전과 제2차 세계대전이 있습니다. 이 두 차례의 세계대전 동안 프랑스와 러시아(소련)는 모두 연합국 측에 속해 있었으며, 그들 간의 직접적인 전쟁은 아니었지만 같은 편에서 싸웠습니다.\n",
            "\n",
            "이 외에도 다양한 역사적 사건과 갈등이 있었지만, 1812년 러시아 원정이 두 나라 간의 가장 유명한 전쟁 중 하나입니다.\n",
            "답변: 네, 독일과 영국은 전쟁을 한 적이 있습니다. 가장 유명한 예로는 두 차례의 세계 대전이 있습니다.\n",
            "\n",
            "1. **제1차 세계 대전 (1914-1918)**: 독일 제국과 영국을 포함한 연합국(영국, 프랑스, 러시아 등이 포함)이 주요 참전국으로서 싸웠습니다. 이 전쟁은 유럽 전역과 그 외 여러 지역에서 벌어졌고, 막대한 인명피해와 경제적 손실을 초래했습니다.\n",
            "\n",
            "2. **제2차 세계 대전 (1939-1945)**: 나치 독일과 영국을 포함한 연합국(미국, 소련, 프랑스 등이 포함)이 싸운 전쟁입니다. 이 전쟁은 이전보다 더 글로벌한 규모로 벌어졌으며, 결과적으로 나치 독일의 패배로 끝났습니다.\n",
            "\n",
            "이 두 차례의 전쟁은 현대 역사에 큰 영향을 미쳤으며, 전후 국제 질서와 정치 지형을 크게 변화시켰습니다.\n"
          ]
        }
      ],
      "source": [
        "inputs = [\n",
        "    {\"country1\": \"미국\", \"country2\": \"중국\"},\n",
        "    {\"country1\": \"프랑스\", \"country2\": \"러시아\"},\n",
        "    {\"country1\": \"독일\", \"country2\": \"영국\"}\n",
        "]\n",
        "\n",
        "results = chain.apply(inputs)\n",
        "\n",
        "for result in results:\n",
        "  print(f\"답변: {result['text'].strip()}\")\n"
      ]
    },
    {
      "cell_type": "markdown",
      "metadata": {
        "id": "U2V_RT_YwYI5"
      },
      "source": [
        "# 스트리밍\n",
        "\n",
        "스트리밍 옵션은 질의에 대한 답변을 실시간으로 받을 때 유용함."
      ]
    },
    {
      "cell_type": "code",
      "execution_count": 25,
      "metadata": {
        "colab": {
          "base_uri": "https://localhost:8080/"
        },
        "id": "4jA8N2-Cx0f4",
        "outputId": "ca0429a1-aef0-4545-b9dd-bc4173481e9d"
      },
      "outputs": [
        {
          "name": "stdout",
          "output_type": "stream",
          "text": [
            "삼국지는 중국 후한 말기부터 삼국 시대까지의 역사를 다룬 고전소설이다. 나관중이 쓴 이 소설은 조조, 유비, 손권이 각각 위, 촉, 오를 세우며 천하를 다투는 이야기를 중심으로 진행된다. 주요 등장인물로는 조조, 유비, 손권, 관우, 장비, 제갈량 등이 있으며, 이들의 전략과 전투, 그리고 인간 관계를 통해 권력 투쟁과 인간의 본성을 묘사한다. 역사적 사실과 허구가 혼합된 이 작품은 중국 문학의 걸작 중 하나로, 동아시아 문화에 큰 영향을 미쳤다."
          ]
        }
      ],
      "source": [
        "from langchain.chat_models import ChatOpenAI\n",
        "from langchain.prompts import PromptTemplate\n",
        "from langchain.callbacks.streaming_stdout import StreamingStdOutCallbackHandler\n",
        "\n",
        "llm = ChatOpenAI(model_name=\"gpt-4o\", streaming=True, callbacks=[StreamingStdOutCallbackHandler()])\n",
        "\n",
        "question = \"삼국지에 대해서 간략하게 300자 이내로 설명해줘.\"\n",
        "\n",
        "response = llm.predict(question)"
      ]
    }
  ],
  "metadata": {
    "colab": {
      "provenance": []
    },
    "kernelspec": {
      "display_name": "Python 3",
      "name": "python3"
    },
    "language_info": {
      "name": "python"
    }
  },
  "nbformat": 4,
  "nbformat_minor": 0
}

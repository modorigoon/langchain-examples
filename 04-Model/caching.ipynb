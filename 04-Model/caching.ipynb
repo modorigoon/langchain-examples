{
  "cells": [
    {
      "cell_type": "markdown",
      "metadata": {
        "id": "6DH5oMhEwNqD"
      },
      "source": [
        "# 캐싱\n",
        "\n",
        "LangChain은 LLM을 위한 선택적 캐싱 레이어를 제공.\n",
        "\n",
        "캐싱을 통해 동일한 완료를 여러 번 요청하는 경우 LLM 공급자에 대한 API 호출 횟수를 줄여 비용을 절감하고 애플리케이션의 속도를 높일 수 있음."
      ]
    },
    {
      "cell_type": "code",
      "execution_count": 11,
      "metadata": {
        "id": "K4FJ45sywQrY"
      },
      "outputs": [],
      "source": [
        "from langchain_openai import ChatOpenAI\n",
        "\n",
        "llm = ChatOpenAI(model_name=\"gpt-4o\")"
      ]
    },
    {
      "cell_type": "code",
      "execution_count": 12,
      "metadata": {
        "colab": {
          "base_uri": "https://localhost:8080/"
        },
        "id": "NaHs2jA_wUqH",
        "outputId": "5abb9cd4-4370-435e-9cc0-3dc006685aa1"
      },
      "outputs": [
        {
          "data": {
            "text/plain": [
              "PromptTemplate(input_variables=['country'], template='{country}에 대해서 200자 이내로 설명해줘.')"
            ]
          },
          "execution_count": 12,
          "metadata": {},
          "output_type": "execute_result"
        }
      ],
      "source": [
        "from langchain.prompts import PromptTemplate\n",
        "\n",
        "prompt = PromptTemplate.from_template(\"{country}에 대해서 200자 이내로 설명해줘.\")\n",
        "prompt"
      ]
    },
    {
      "cell_type": "code",
      "execution_count": 13,
      "metadata": {
        "id": "K17kNdZpwZBl"
      },
      "outputs": [],
      "source": [
        "chain = prompt | llm"
      ]
    },
    {
      "cell_type": "code",
      "execution_count": 23,
      "metadata": {
        "colab": {
          "base_uri": "https://localhost:8080/"
        },
        "id": "Idffw-WSwb_c",
        "outputId": "c37c3391-4874-4644-b294-31fddc62f440"
      },
      "outputs": [
        {
          "name": "stdout",
          "output_type": "stream",
          "text": [
            "CPU times: user 7.13 ms, sys: 776 µs, total: 7.91 ms\n",
            "Wall time: 10 ms\n",
            "대한민국은 동아시아에 위치한 나라로, 한반도 남부에 자리잡고 있다. 서울이 수도이며, 경제적으로 발달한 국가로 IT, 전자, 자동차 산업 등이 주요한 역할을 한다. 1948년에 독립한 이후 빠른 경제 성장을 이루어냈으며, 현재는 민주주의와 시장경제를 기반으로 하고 있다. 한국 문화, 특히 K-팝과 드라마는 전 세계적으로 큰 인기를 끌고 있다.\n"
          ]
        }
      ],
      "source": [
        "%time response = chain.invoke({\"country\": \"대한민국\"})\n",
        "print(response.content)"
      ]
    },
    {
      "cell_type": "code",
      "execution_count": 15,
      "metadata": {
        "id": "aqNMFl1cwqW7"
      },
      "outputs": [],
      "source": [
        "from langchain.cache import SQLiteCache\n",
        "from langchain.globals import set_llm_cache\n",
        "\n",
        "set_llm_cache(SQLiteCache(database_path=\"test_llm_cache.db\"))"
      ]
    },
    {
      "cell_type": "code",
      "execution_count": 20,
      "metadata": {
        "colab": {
          "base_uri": "https://localhost:8080/"
        },
        "id": "4907YlPgxDo-",
        "outputId": "3bdf0f7a-f3a9-450d-b90e-fdaa735e501c"
      },
      "outputs": [
        {
          "name": "stdout",
          "output_type": "stream",
          "text": [
            "CPU times: user 7.9 ms, sys: 0 ns, total: 7.9 ms\n",
            "Wall time: 7.46 ms\n",
            "한국은 동아시아에 위치한 반도 국가로, 북쪽으로는 북한과 국경을 접하고 있다. 수도는 서울이며, 인구는 약 5천만 명이다. 한국은 고유한 언어인 한국어와 독창적인 문화, 한글 문자 체계를 가지고 있다. 경제적으로는 세계 10위권의 경제 대국으로, 전자제품, 자동차, 반도체 산업이 발달해 있다. 또한, K-팝, 영화, 드라마 등 한류로 전 세계에서 문화적 영향력을 미치고 있다.\n"
          ]
        }
      ],
      "source": [
        "%time response = chain.invoke({\"country\": \"한국\"})\n",
        "print(response.content)"
      ]
    }
  ],
  "metadata": {
    "colab": {
      "provenance": []
    },
    "kernelspec": {
      "display_name": "Python 3",
      "name": "python3"
    },
    "language_info": {
      "name": "python"
    }
  },
  "nbformat": 4,
  "nbformat_minor": 0
}

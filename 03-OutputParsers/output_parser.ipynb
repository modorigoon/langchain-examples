{
  "cells": [
    {
      "cell_type": "markdown",
      "metadata": {
        "id": "cfpVjTzqnFpm"
      },
      "source": [
        "# PydanticOutputParser\n",
        "\n",
        "PydanticOutputParser는 언어 모델의 출력을 구조화된 정보로 변환하는 데 도움이 되는 클래스로, 언어 모델에서 나온 단순 텍스트를 넘어서, 사용자가 필요로 하는 정보를 명확하고 체계적인 형태로 제공할 수 있음.\n",
        "\n",
        "## PydanticOutputParser는 주로 두 가지의 핵심 메서드가 구현되어야 함.\n",
        "\n",
        "\n",
        "*   get_format_instruction: 언어 모델이 출력해야 할 정보의 형식을 정의하는 지침을 제공. 예를 들어, 언어 모델이 출력해야 할 데이터의 필드와 그 형태를 설명하는 지침을 문자열로 반환할 수 있음.\n",
        "*   parse: 언어 모델의 출력(문자열로 가정)을 받아들여 이를 특정 구조로 분석하고 변환. Pydantic와 같은 도구를 사용하여, 입력된 문자열을 사전 정의된 스키마에 따라 검증하고, 해당 스키마를 따르는 데이터 구조로 변환.\n",
        "\n"
      ]
    },
    {
      "cell_type": "code",
      "execution_count": null,
      "metadata": {
        "id": "vkQXAT6Zoei0"
      },
      "outputs": [],
      "source": [
        "from langchain_openai import ChatOpenAI\n",
        "from langchain.prompts import PromptTemplate\n",
        "from langchain.output_parsers import PydanticOutputParser\n",
        "from langchain_core.pydantic_v1 import BaseModel, Field\n",
        "\n",
        "llm = ChatOpenAI(temperature=0)\n",
        "\n",
        "story_content = \"\"\"\n",
        "  향단이는 길동이를 다리위에서 칼로 찔러 죽였다.\n",
        "\"\"\"\n",
        "\n",
        "class Story(BaseModel):\n",
        "  suspect: str = Field(description=\"죽인 사람(용의자)\")\n",
        "  victim: str = Field(description=\"죽은 사람(피해자)\")\n",
        "  point: str = Field(description=\"장소\")\n",
        "  weapon: str = Field(description=\"살해 무기\")\n",
        "\n",
        "parser = PydanticOutputParser(pydantic_object=Story)"
      ]
    },
    {
      "cell_type": "code",
      "execution_count": null,
      "metadata": {
        "id": "5EP95ZraqZUw"
      },
      "outputs": [],
      "source": [
        "prompt = PromptTemplate.from_template(\n",
        "    \"\"\"\n",
        "      아래의 질문에 한국어로 답해주세요.\n",
        "\n",
        "      질문: {question}\n",
        "      스토리: {story}\n",
        "      FORMAT: {format}\n",
        "    \"\"\"\n",
        ")\n",
        "prompt = prompt.partial(format=parser.get_format_instructions())"
      ]
    },
    {
      "cell_type": "code",
      "execution_count": null,
      "metadata": {
        "colab": {
          "base_uri": "https://localhost:8080/"
        },
        "id": "_yDl18qgq8ZI",
        "outputId": "d504bb86-7dba-40cc-a1b2-0c303bc2f98d"
      },
      "outputs": [
        {
          "name": "stdout",
          "output_type": "stream",
          "text": [
            "{\n",
            "  \"suspect\": \"향단이\",\n",
            "  \"victim\": \"길동이\",\n",
            "  \"point\": \"다리위\",\n",
            "  \"weapon\": \"칼\"\n",
            "}\n"
          ]
        }
      ],
      "source": [
        "chain = prompt | llm\n",
        "\n",
        "response = chain.invoke({\n",
        "    \"question\": \"이 이야기의 요소들을 추출해주세요.\",\n",
        "    \"story\": story_content\n",
        "})\n",
        "\n",
        "print(response.content)"
      ]
    },
    {
      "cell_type": "markdown",
      "metadata": {
        "id": "9Vzsj5KYrmTg"
      },
      "source": [
        "## Parse를 결합한 체인 생성\n",
        "\n",
        "출력 결과를 객체로 생성할 수 있다."
      ]
    },
    {
      "cell_type": "code",
      "execution_count": null,
      "metadata": {
        "colab": {
          "base_uri": "https://localhost:8080/"
        },
        "id": "POKK8BD_rtUn",
        "outputId": "9a069f37-11b0-4c2c-af2e-d9b7ae87074e"
      },
      "outputs": [
        {
          "data": {
            "text/plain": [
              "Story(suspect='향단이', victim='길동이', point='다리위', weapon='칼')"
            ]
          },
          "execution_count": 10,
          "metadata": {},
          "output_type": "execute_result"
        }
      ],
      "source": [
        "chain = prompt | llm | parser\n",
        "\n",
        "response = chain.invoke({\n",
        "    \"question\": \"이 이야기의 요소들을 추출해주세요.\",\n",
        "    \"story\": story_content\n",
        "})\n",
        "\n",
        "response"
      ]
    },
    {
      "cell_type": "markdown",
      "metadata": {
        "id": "dGNVe-E7_yjQ"
      },
      "source": [
        "# CommaSeparatedListOutputParser\n",
        "\n",
        "쉼표로 구분된 항목 목록을 반환할 필요가 있을 때 유용하게 사용할 수 있음. 이 출력 파서를 사용하여 사용자가 입력한 데이터나 요청한 정보를 쉼표로 구분하여 명확하고 간결한 목록 형태로 제공받을 수 있음."
      ]
    },
    {
      "cell_type": "code",
      "execution_count": null,
      "metadata": {
        "colab": {
          "base_uri": "https://localhost:8080/"
        },
        "id": "fE2Y0OeIA8k0",
        "outputId": "d2aedf71-88ff-4960-c71e-9b836efe5906"
      },
      "outputs": [
        {
          "name": "stdout",
          "output_type": "stream",
          "text": [
            "Your response should be a list of comma separated values, eg: `foo, bar, baz` or `foo,bar,baz`\n"
          ]
        }
      ],
      "source": [
        "from langchain.output_parsers import CommaSeparatedListOutputParser\n",
        "from langchain.prompts import PromptTemplate\n",
        "from langchain_openai import ChatOpenAI\n",
        "\n",
        "output_parser = CommaSeparatedListOutputParser()\n",
        "\n",
        "format_instructions = output_parser.get_format_instructions()\n",
        "print(format_instructions)\n",
        "\n",
        "prompt = PromptTemplate(\n",
        "    template=\"{subject} 5명.\\n{format_instuctions}\",\n",
        "    input_variables=[\"subject\"],\n",
        "    partial_variables={\"format_instuctions\": format_instructions}\n",
        ")\n",
        "\n",
        "model = ChatOpenAI(temperature=0)\n",
        "\n",
        "chain = prompt | model | output_parser"
      ]
    },
    {
      "cell_type": "code",
      "execution_count": null,
      "metadata": {
        "colab": {
          "base_uri": "https://localhost:8080/"
        },
        "id": "89qTNQFYCEWm",
        "outputId": "69d8beb4-398c-4456-8b70-8a9d3c5491ac"
      },
      "outputs": [
        {
          "data": {
            "text/plain": [
              "['이승만', '박정희', '전두환', '김영삼', '김대중']"
            ]
          },
          "execution_count": 9,
          "metadata": {},
          "output_type": "execute_result"
        }
      ],
      "source": [
        "chain.invoke(\n",
        "    {\"subject\": \"대한민국의 역대 대통령\"}\n",
        ")"
      ]
    },
    {
      "cell_type": "markdown",
      "metadata": {
        "id": "_qksfyUGDLsc"
      },
      "source": [
        "## Chain Stream\n",
        "\n",
        "chain.stream을 사용하여 스트림을 반복처리 가능."
      ]
    },
    {
      "cell_type": "code",
      "execution_count": null,
      "metadata": {
        "colab": {
          "base_uri": "https://localhost:8080/"
        },
        "id": "Kic5Llv7DSNy",
        "outputId": "30304cac-666d-45d1-cfe9-e73c307d7f37"
      },
      "outputs": [
        {
          "name": "stdout",
          "output_type": "stream",
          "text": [
            "['유관순']\n",
            "['안중근']\n",
            "['이순신']\n",
            "['김구']\n",
            "['박근혜']\n"
          ]
        }
      ],
      "source": [
        "for p in chain.stream({\"subject\": \"대한민국의 영웅\"}):\n",
        "  print(p)"
      ]
    },
    {
      "cell_type": "markdown",
      "metadata": {
        "id": "-dpbR75ZDzvj"
      },
      "source": [
        "# StructuredOutputParser\n",
        "\n",
        "여러 필드를 반환하고자 할 때 유용하게 사용할 수 있음.\n",
        "\n",
        "*   ResponseSchema: 클래스를 사용하여 응답 스키마를 정의\n",
        "*   StructuredOutputParser: 응답 스키마들을 사용하여 출력을 구조화\n",
        "\n"
      ]
    },
    {
      "cell_type": "code",
      "execution_count": null,
      "metadata": {
        "id": "v1D0Tkq2Ea7t"
      },
      "outputs": [],
      "source": [
        "from langchain.output_parsers import ResponseSchema, StructuredOutputParser\n",
        "from langchain.prompts import PromptTemplate\n",
        "from langchain_openai import ChatOpenAI"
      ]
    },
    {
      "cell_type": "code",
      "execution_count": null,
      "metadata": {
        "colab": {
          "base_uri": "https://localhost:8080/"
        },
        "id": "S9mDgrWwEpuV",
        "outputId": "9a09735d-c4e6-4385-e9ac-38f09200d90b"
      },
      "outputs": [
        {
          "name": "stdout",
          "output_type": "stream",
          "text": [
            "response_schemas=[ResponseSchema(name='answer', description='질문의 답변', type='string'), ResponseSchema(name='source', description='답변의 출처', type='string')]\n"
          ]
        }
      ],
      "source": [
        "response_schemas = [\n",
        "    ResponseSchema(name=\"answer\", description=\"질문의 답변\"),\n",
        "    ResponseSchema(name=\"source\", description=\"답변의 출처\")\n",
        "]\n",
        "\n",
        "output_parser = StructuredOutputParser.from_response_schemas(response_schemas)\n",
        "print(output_parser)"
      ]
    },
    {
      "cell_type": "code",
      "execution_count": null,
      "metadata": {
        "colab": {
          "base_uri": "https://localhost:8080/"
        },
        "id": "tjQv6PrzIC8X",
        "outputId": "f7c8ed32-6c69-4872-ec89-3826b64a835d"
      },
      "outputs": [
        {
          "name": "stdout",
          "output_type": "stream",
          "text": [
            "The output should be a markdown code snippet formatted in the following schema, including the leading and trailing \"```json\" and \"```\":\n",
            "\n",
            "```json\n",
            "{\n",
            "\t\"answer\": string  // 질문의 답변\n",
            "\t\"source\": string  // 답변의 출처\n",
            "}\n",
            "```\n"
          ]
        }
      ],
      "source": [
        "format_instructions = output_parser.get_format_instructions()\n",
        "print(format_instructions)\n",
        "\n",
        "prompt = PromptTemplate(\n",
        "    template=\"질문에 답변해 주세요.\\n{format_instructions}\\n{question}\",\n",
        "    input_variables=[\"question\"],\n",
        "    partial_variables={\"format_instructions\": format_instructions}\n",
        ")"
      ]
    },
    {
      "cell_type": "code",
      "execution_count": null,
      "metadata": {
        "id": "ztOKtyNRJCYu"
      },
      "outputs": [],
      "source": [
        "model = ChatOpenAI(temperature=0)\n",
        "chain = prompt | model | output_parser"
      ]
    },
    {
      "cell_type": "code",
      "execution_count": null,
      "metadata": {
        "colab": {
          "base_uri": "https://localhost:8080/"
        },
        "id": "gUrg34y2JOdJ",
        "outputId": "f86b3122-07f1-42b8-bbb7-3b0866f6e82f"
      },
      "outputs": [
        {
          "data": {
            "text/plain": [
              "{'answer': '존 아담스(John Adams)',\n",
              " 'source': 'https://en.wikipedia.org/wiki/List_of_Presidents_of_the_United_States'}"
            ]
          },
          "execution_count": 17,
          "metadata": {},
          "output_type": "execute_result"
        }
      ],
      "source": [
        "chain.invoke({\"question\": \"미국의 초대 대통령은 누구인가요?\"})"
      ]
    },
    {
      "cell_type": "markdown",
      "metadata": {
        "id": "ncRAA1tfKVW8"
      },
      "source": [
        "## Chain Stream\n",
        "chain.stream을 사용하여 스트림을 반복처리 가능."
      ]
    },
    {
      "cell_type": "code",
      "execution_count": null,
      "metadata": {
        "colab": {
          "base_uri": "https://localhost:8080/"
        },
        "id": "uLlJ8LPvKZtP",
        "outputId": "f3661fc1-701a-4b31-b3b7-4fd3d4c794bf"
      },
      "outputs": [
        {
          "name": "stdout",
          "output_type": "stream",
          "text": [
            "{'answer': '맥아더 장군은 한국전쟁 중에 유엔군 사령관으로 활약하여 인천상륙작전과 함께 전쟁의 흐름을 뒤집는 데 큰 역할을 했습니다.', 'source': 'https://ko.wikipedia.org/wiki/%EB%A7%A5%EC%95%84%EB%8D%94_%EC%9E%A5%EA%B5%B0'}\n"
          ]
        }
      ],
      "source": [
        "for s in chain.stream({\"question\": \"맥아더 장군의 업적은 무엇인가요?\"}):\n",
        "  print(s)"
      ]
    }
  ],
  "metadata": {
    "colab": {
      "provenance": [],
      "toc_visible": true
    },
    "kernelspec": {
      "display_name": "Python 3",
      "name": "python3"
    },
    "language_info": {
      "name": "python"
    }
  },
  "nbformat": 4,
  "nbformat_minor": 0
}

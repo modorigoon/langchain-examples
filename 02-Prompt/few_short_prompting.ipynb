{
  "cells": [
    {
      "cell_type": "markdown",
      "metadata": {
        "id": "eIJJsn9DjeV4"
      },
      "source": [
        "# Few Short Prompting\n",
        "\n",
        "퓨샷 프롬피팅은 기본적으로 모델에 원하는 작업의 몇 가지 예시를 제시.\n",
        "\n",
        "(예시를 하나도 제공하지 않을 경우 제로 샷, 하나의 예시만 제공할 경우 원 샷)"
      ]
    },
    {
      "cell_type": "markdown",
      "metadata": {
        "id": "21if-t-0mY3K"
      },
      "source": [
        "## FewShortPromptTemplate"
      ]
    },
    {
      "cell_type": "code",
      "execution_count": 5,
      "metadata": {
        "colab": {
          "base_uri": "https://localhost:8080/"
        },
        "id": "BKu8A3jPgnWV",
        "outputId": "1310c34b-68df-4f58-d4e0-b3ac3131f2dd"
      },
      "outputs": [
        {
          "name": "stderr",
          "output_type": "stream",
          "text": [
            "/usr/local/lib/python3.10/dist-packages/langchain_core/_api/deprecation.py:119: LangChainDeprecationWarning: The method `BaseChatModel.predict` was deprecated in langchain-core 0.1.7 and will be removed in 0.2.0. Use invoke instead.\n",
            "  warn_deprecated(\n"
          ]
        },
        {
          "name": "stdout",
          "output_type": "stream",
          "text": [
            "          하나씩 계산해 봅시다.\n",
            "          10/5는 2입니다.\n",
            "          2/1은 2입니다.\n",
            "          최종 결과는: 2\n"
          ]
        }
      ],
      "source": [
        "from langchain.prompts.few_shot import FewShotPromptTemplate\n",
        "from langchain.prompts.prompt import PromptTemplate\n",
        "from langchain_openai import ChatOpenAI\n",
        "\n",
        "llm = ChatOpenAI(model_name=\"gpt-3.5-turbo\")\n",
        "\n",
        "examples = [\n",
        "    {\n",
        "        \"question\": \"다음 덧셈을 계산하시오. 식: 2+5+3+2=\",\n",
        "        \"answer\": \"\"\"\n",
        "          하나씩 계산해 봅시다.\n",
        "          2+5는 7입니다.\n",
        "          7+3은 10입니다.\n",
        "          10+2는 12입니다.\n",
        "          최종 결과는: 12\n",
        "        \"\"\"\n",
        "    },\n",
        "    {\n",
        "        \"question\": \"다음 뺄셈을 계산하시오. 식: 30-5-3-2=\",\n",
        "        \"answer\": \"\"\"\n",
        "          하나씩 계산해 봅시다.\n",
        "          30-5는 25입니다.\n",
        "          25-3은 22입니다.\n",
        "          22-2는 20입니다.\n",
        "          최종 결과는: 20\n",
        "        \"\"\"\n",
        "    },\n",
        "    {\n",
        "        \"question\": \"다음 곱셈을 계산하시오. 식: 2*5*2*1=\",\n",
        "        \"answer\": \"\"\"\n",
        "          하나씩 계산해 봅시다.\n",
        "          2*5는 10입니다.\n",
        "          10*2은 20입니다.\n",
        "          20*1는 20입니다.\n",
        "          최종 결과는: 20\n",
        "        \"\"\"\n",
        "    }\n",
        "]\n",
        "\n",
        "example_prompt = PromptTemplate(input_variables=[\"question\", \"answer\"], template=\"Question: {question}\\n{answer}\")\n",
        "prompt = FewShotPromptTemplate(\n",
        "    examples=examples,\n",
        "    example_prompt=example_prompt,\n",
        "    suffix=\"Question: {question}\",\n",
        "    input_variables=[\"question\"]\n",
        ")\n",
        "\n",
        "question = \"다음 나눗셈을 계산하시오. 식: 10/5/1=\"\n",
        "\n",
        "final_prompt = prompt.format(question=question)\n",
        "\n",
        "print(llm.predict(final_prompt))\n"
      ]
    },
    {
      "cell_type": "markdown",
      "metadata": {
        "id": "WAkg6zRXmdxe"
      },
      "source": [
        "## SemanticSimilarityExampleSelector\n",
        "\n",
        "의미적 유사성을 가지는 예시를 선택.\n"
      ]
    },
    {
      "cell_type": "code",
      "execution_count": 9,
      "metadata": {
        "colab": {
          "base_uri": "https://localhost:8080/"
        },
        "id": "qZ8uPvWNkGU4",
        "outputId": "435bde5e-4b39-4ad6-8245-a99637683dd4"
      },
      "outputs": [
        {
          "name": "stdout",
          "output_type": "stream",
          "text": [
            "가장 유사한 예시: 다음 나눗셈을 계산하시오. 식: 10-5-1=\n",
            "\n",
            "question: 다음 뺄셈을 계산하시오. 식: 20-5-2-1=\n",
            "answer: \n",
            "          하나씩 계산해 봅시다.\n",
            "          20-5는 15입니다.\n",
            "          15-2은 13입니다.\n",
            "          13-1는 12입니다.\n",
            "          최종 결과는: 12\n",
            "        \n",
            "question: 다음 뺄셈을 계산하시오. 식: 30-5-3-2=\n",
            "answer: \n",
            "          하나씩 계산해 봅시다.\n",
            "          30-5는 25입니다.\n",
            "          25-3은 22입니다.\n",
            "          22-2는 20입니다.\n",
            "          최종 결과는: 20\n",
            "        \n"
          ]
        }
      ],
      "source": [
        "from langchain.prompts.example_selector import SemanticSimilarityExampleSelector\n",
        "from langchain.vectorstores import Chroma\n",
        "from langchain.embeddings import OpenAIEmbeddings\n",
        "\n",
        "examples = [\n",
        "    {\n",
        "        \"question\": \"다음 덧셈을 계산하시오. 식: 2+5+3+2=\",\n",
        "        \"answer\": \"\"\"\n",
        "          하나씩 계산해 봅시다.\n",
        "          2+5는 7입니다.\n",
        "          7+3은 10입니다.\n",
        "          10+2는 12입니다.\n",
        "          최종 결과는: 12\n",
        "        \"\"\"\n",
        "    },\n",
        "    {\n",
        "        \"question\": \"다음 뺄셈을 계산하시오. 식: 30-5-3-2=\",\n",
        "        \"answer\": \"\"\"\n",
        "          하나씩 계산해 봅시다.\n",
        "          30-5는 25입니다.\n",
        "          25-3은 22입니다.\n",
        "          22-2는 20입니다.\n",
        "          최종 결과는: 20\n",
        "        \"\"\"\n",
        "    },\n",
        "    {\n",
        "        \"question\": \"다음 곱셈을 계산하시오. 식: 2*5*2*1=\",\n",
        "        \"answer\": \"\"\"\n",
        "          하나씩 계산해 봅시다.\n",
        "          2*5는 10입니다.\n",
        "          10*2은 20입니다.\n",
        "          20*1는 20입니다.\n",
        "          최종 결과는: 20\n",
        "        \"\"\"\n",
        "    },\n",
        "    {\n",
        "        \"question\": \"다음 뺄셈을 계산하시오. 식: 20-5-2-1=\",\n",
        "        \"answer\": \"\"\"\n",
        "          하나씩 계산해 봅시다.\n",
        "          20-5는 15입니다.\n",
        "          15-2은 13입니다.\n",
        "          13-1는 12입니다.\n",
        "          최종 결과는: 12\n",
        "        \"\"\"\n",
        "    }\n",
        "]\n",
        "\n",
        "example_selector = SemanticSimilarityExampleSelector.from_examples(\n",
        "    examples,              # 선택 가능한 예시\n",
        "    OpenAIEmbeddings(),    # 의미적 유사성을 측정하기 위한 임베딩을 생성하는 임베딩 클래스\n",
        "    Chroma,                # 임베딩을 저장하고 유사성 검색을 수행하는데 사용되는 벡터 스토어\n",
        "    k=2                    # 선택할 예시의 수\n",
        ")\n",
        "\n",
        "question = \"다음 나눗셈을 계산하시오. 식: 10-5-1=\"\n",
        "selected_examples = example_selector.select_examples({\"question\": question})\n",
        "print(f\"가장 유사한 예시: {question}\\n\")\n",
        "\n",
        "for example in selected_examples:\n",
        "  print(f\"question: {example['question']}\")\n",
        "  print(f\"answer: {example['answer']}\")"
      ]
    }
  ],
  "metadata": {
    "colab": {
      "provenance": []
    },
    "kernelspec": {
      "display_name": "Python 3",
      "name": "python3"
    },
    "language_info": {
      "name": "python"
    }
  },
  "nbformat": 4,
  "nbformat_minor": 0
}

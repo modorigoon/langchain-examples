{
  "cells": [
    {
      "cell_type": "markdown",
      "metadata": {
        "id": "2twKOsf7TpEr"
      },
      "source": [
        "# 프롬프트"
      ]
    },
    {
      "cell_type": "markdown",
      "metadata": {
        "id": "TqUs8SzsTr9p"
      },
      "source": [
        "## PromptTemplate"
      ]
    },
    {
      "cell_type": "markdown",
      "metadata": {
        "id": "6AZ2SNYoTvKJ"
      },
      "source": [
        "### 객체 생성과 동시에 prompt 생성하는 방식"
      ]
    },
    {
      "cell_type": "code",
      "execution_count": 3,
      "metadata": {
        "colab": {
          "base_uri": "https://localhost:8080/"
        },
        "id": "ONI_CA0NT16G",
        "outputId": "38531cf7-8ee2-4e4a-ec0e-5d08e9c338a8"
      },
      "outputs": [
        {
          "name": "stdout",
          "output_type": "stream",
          "text": [
            "Prompt: 대한민국의 수도는 어디입니까?\n"
          ]
        }
      ],
      "source": [
        "from langchain.prompts import PromptTemplate\n",
        "\n",
        "template = \"{country}의 수도는 어디입니까?\"\n",
        "\n",
        "prompt_template = PromptTemplate(template=template, input_variables=[\"country\"])\n",
        "prompt = prompt_template.format(country=\"대한민국\")\n",
        "\n",
        "print(f\"Prompt: {prompt}\")"
      ]
    },
    {
      "cell_type": "markdown",
      "metadata": {
        "id": "ObYnSUbZUqIp"
      },
      "source": [
        "### from_template() 메서드를 사용하는 방식"
      ]
    },
    {
      "cell_type": "code",
      "execution_count": 4,
      "metadata": {
        "colab": {
          "base_uri": "https://localhost:8080/"
        },
        "id": "_Tf8ASKAUthY",
        "outputId": "38b3163b-409a-4568-ed93-4d849b9754fb"
      },
      "outputs": [
        {
          "name": "stdout",
          "output_type": "stream",
          "text": [
            "Prompt: 대한민국의 수도는 어디입니까?\n"
          ]
        }
      ],
      "source": [
        "from langchain.prompts import PromptTemplate\n",
        "\n",
        "template = \"{country}의 수도는 어디입니까?\"\n",
        "\n",
        "prompt_template = PromptTemplate.from_template(template=template)\n",
        "prompt = prompt_template.format(country=\"대한민국\")\n",
        "\n",
        "print(f\"Prompt: {prompt}\")"
      ]
    },
    {
      "cell_type": "markdown",
      "metadata": {
        "id": "f89AJ-RIVFiX"
      },
      "source": [
        "## 파일에서 Template 읽기\n"
      ]
    },
    {
      "cell_type": "code",
      "execution_count": 5,
      "metadata": {
        "colab": {
          "base_uri": "https://localhost:8080/"
        },
        "id": "DX17O2CKVJ0L",
        "outputId": "15c06bc6-9ac0-4344-9abb-3f290c9f3d3a"
      },
      "outputs": [
        {
          "name": "stdout",
          "output_type": "stream",
          "text": [
            "Prompt: 대한민국의 수도가 어디야????\n"
          ]
        }
      ],
      "source": [
        "from langchain.prompts import load_prompt\n",
        "\n",
        "prompt_template = load_prompt(\"sample_data/sample_file_prompt.json\")\n",
        "prompt = prompt_template.format(country=\"대한민국\")\n",
        "\n",
        "print(f\"Prompt: {prompt}\")"
      ]
    },
    {
      "cell_type": "markdown",
      "metadata": {
        "id": "89FT4H4zSwGi"
      },
      "source": [
        "## partial_variables: 함수 사용\n",
        "\n",
        "항상 공통된 방식으로 가져오고 싶은 변수가 존재할 경우 함수를 부분적으로 사용할 수 있음.\n",
        "\n",
        "대표적인 예로, 날짜와 시간."
      ]
    },
    {
      "cell_type": "code",
      "execution_count": 3,
      "metadata": {
        "colab": {
          "base_uri": "https://localhost:8080/"
        },
        "id": "IbMw5GiiS6GL",
        "outputId": "d56335fc-5e12-4127-b372-84c1245d0ad6"
      },
      "outputs": [
        {
          "name": "stdout",
          "output_type": "stream",
          "text": [
            "Prompt: 오늘의 날짜는 None 입니다. 오늘이 생일인 유명인 5명을 나열해주세요.\n"
          ]
        }
      ],
      "source": [
        "from datetime import datetime\n",
        "from langchain.prompts import PromptTemplate\n",
        "\n",
        "\n",
        "def get_today():\n",
        "  datetime.now().strftime(\"%B %d\")\n",
        "\n",
        "\n",
        "prompt_template = PromptTemplate(\n",
        "    template=\"오늘의 날짜는 {today} 입니다. 오늘이 생일인 유명인 {n}명을 나열해주세요.\",\n",
        "    input_variables=[\"n\"],\n",
        "    partial_variables={\"today\": get_today}\n",
        ")\n",
        "\n",
        "prompt = prompt_template.format(n=5)\n",
        "\n",
        "print(f\"Prompt: {prompt}\")\n"
      ]
    },
    {
      "cell_type": "markdown",
      "metadata": {
        "id": "irjSDHabWa9a"
      },
      "source": [
        "## RunnablePassthrough\n",
        "\n",
        "앞에서 전달받은 값을 변경 없이, 또는 다른 키를 추가하여 다음 컴포넌트로 그대로 전달."
      ]
    },
    {
      "cell_type": "code",
      "execution_count": 4,
      "metadata": {
        "colab": {
          "base_uri": "https://localhost:8080/"
        },
        "id": "F06qAkx9VbsM",
        "outputId": "dd4d26ba-9b9a-4b03-d225-f70122f6f006"
      },
      "outputs": [
        {
          "name": "stdout",
          "output_type": "stream",
          "text": [
            "Result: text='다음 회사의 소재지를 알려주세요. 회사명: 삼성'\n"
          ]
        }
      ],
      "source": [
        "from langchain.prompts import PromptTemplate\n",
        "from langchain_core.runnables import RunnablePassthrough\n",
        "\n",
        "template = \"다음 회사의 소재지를 알려주세요. 회사명: {company}\"\n",
        "prompt = PromptTemplate.from_template(template=template)\n",
        "\n",
        "chain = { \"company\": RunnablePassthrough()} | prompt\n",
        "\n",
        "result = chain.invoke(\"삼성\")\n",
        "\n",
        "print(f\"Result: {result}\")\n"
      ]
    }
  ],
  "metadata": {
    "colab": {
      "provenance": []
    },
    "kernelspec": {
      "display_name": "Python 3",
      "name": "python3"
    },
    "language_info": {
      "name": "python"
    }
  },
  "nbformat": 4,
  "nbformat_minor": 0
}
